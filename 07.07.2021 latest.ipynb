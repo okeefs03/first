{
 "cells": [
  {
   "cell_type": "code",
   "execution_count": 1,
   "id": "be82fbc9",
   "metadata": {},
   "outputs": [
    {
     "data": {
      "text/html": [
       "        <script type=\"text/javascript\">\n",
       "        window.PlotlyConfig = {MathJaxConfig: 'local'};\n",
       "        if (window.MathJax) {MathJax.Hub.Config({SVG: {font: \"STIX-Web\"}});}\n",
       "        if (typeof require !== 'undefined') {\n",
       "        require.undef(\"plotly\");\n",
       "        requirejs.config({\n",
       "            paths: {\n",
       "                'plotly': ['https://cdn.plot.ly/plotly-latest.min']\n",
       "            }\n",
       "        });\n",
       "        require(['plotly'], function(Plotly) {\n",
       "            window._Plotly = Plotly;\n",
       "        });\n",
       "        }\n",
       "        </script>\n",
       "        "
      ]
     },
     "metadata": {},
     "output_type": "display_data"
    }
   ],
   "source": [
    "import pydicom\n",
    "import pandas as pd\n",
    "from matplotlib import pyplot, cm\n",
    "#import matplotlib.pyplot as plt\n",
    "#or interactive visualizations\n",
    "\n",
    "#plotly modules\n",
    "import plotly.graph_objs as go\n",
    "import plotly.express as px\n",
    "from plotly.offline import init_notebook_mode\n",
    "from plotly import figure_factory as ff\n",
    "from plotly.graph_objs import*\n",
    "init_notebook_mode(connected=True)\n",
    "\n",
    "#Windows modules\n",
    "import webbrowser\n",
    "from win32com.shell import shell\n",
    "import win32ui, win32con\n",
    "from shutil import copyfile\n",
    "import sys\n",
    "import os\n",
    "\n",
    "#math modules\n",
    "import numpy\n",
    "import random\n",
    "import copy\n",
    "from matplotlib.path import Path\n",
    "\n",
    "import pathlib"
   ]
  },
  {
   "cell_type": "code",
   "execution_count": 2,
   "id": "e331c1a4",
   "metadata": {},
   "outputs": [
    {
     "name": "stdout",
     "output_type": "stream",
     "text": [
      "C:/Users/Serena/DoseFalloffv2\n"
     ]
    }
   ],
   "source": [
    "#FIRST IMPORTING AND PLOTING CT FILES\n",
    "\n",
    "from tkinter import*\n",
    "from tkinter import filedialog\n",
    "from tkinter.filedialog import askdirectory\n",
    "\n",
    "dir_path = askdirectory()\n",
    "print(dir_path)"
   ]
  },
  {
   "cell_type": "code",
   "execution_count": 3,
   "id": "be2ac967",
   "metadata": {},
   "outputs": [],
   "source": [
    "file_dir=pathlib.Path(dir_path).glob('CT*.dcm')\n",
    "#only including dcm files that contain CT"
   ]
  },
  {
   "cell_type": "code",
   "execution_count": 4,
   "id": "0c07afbb",
   "metadata": {},
   "outputs": [],
   "source": [
    "from natsort import natsorted\n",
    "file_dir=natsorted(file_dir)\n",
    "#sorting in order all the files"
   ]
  },
  {
   "cell_type": "code",
   "execution_count": 5,
   "id": "eca8eae6",
   "metadata": {},
   "outputs": [
    {
     "data": {
      "text/plain": [
       "152"
      ]
     },
     "execution_count": 5,
     "metadata": {},
     "output_type": "execute_result"
    }
   ],
   "source": [
    "len(file_dir)"
   ]
  },
  {
   "cell_type": "code",
   "execution_count": 6,
   "id": "0c6e47b9",
   "metadata": {},
   "outputs": [
    {
     "data": {
      "text/plain": [
       "[WindowsPath('C:/Users/Serena/DoseFalloffv2/CT.1.2.246.352.71.3.63752751031.14431635.20160428153112.dcm'),\n",
       " WindowsPath('C:/Users/Serena/DoseFalloffv2/CT.1.2.246.352.71.3.63752751031.14431636.20160428153112.dcm'),\n",
       " WindowsPath('C:/Users/Serena/DoseFalloffv2/CT.1.2.246.352.71.3.63752751031.14431637.20160428153112.dcm'),\n",
       " WindowsPath('C:/Users/Serena/DoseFalloffv2/CT.1.2.246.352.71.3.63752751031.14431638.20160428153112.dcm'),\n",
       " WindowsPath('C:/Users/Serena/DoseFalloffv2/CT.1.2.246.352.71.3.63752751031.14431639.20160428153112.dcm'),\n",
       " WindowsPath('C:/Users/Serena/DoseFalloffv2/CT.1.2.246.352.71.3.63752751031.14431640.20160428153112.dcm'),\n",
       " WindowsPath('C:/Users/Serena/DoseFalloffv2/CT.1.2.246.352.71.3.63752751031.14431641.20160428153112.dcm'),\n",
       " WindowsPath('C:/Users/Serena/DoseFalloffv2/CT.1.2.246.352.71.3.63752751031.14431642.20160428153112.dcm'),\n",
       " WindowsPath('C:/Users/Serena/DoseFalloffv2/CT.1.2.246.352.71.3.63752751031.14431643.20160428153112.dcm'),\n",
       " WindowsPath('C:/Users/Serena/DoseFalloffv2/CT.1.2.246.352.71.3.63752751031.14431644.20160428153112.dcm'),\n",
       " WindowsPath('C:/Users/Serena/DoseFalloffv2/CT.1.2.246.352.71.3.63752751031.14431645.20160428153112.dcm'),\n",
       " WindowsPath('C:/Users/Serena/DoseFalloffv2/CT.1.2.246.352.71.3.63752751031.14431646.20160428153112.dcm'),\n",
       " WindowsPath('C:/Users/Serena/DoseFalloffv2/CT.1.2.246.352.71.3.63752751031.14431647.20160428153112.dcm'),\n",
       " WindowsPath('C:/Users/Serena/DoseFalloffv2/CT.1.2.246.352.71.3.63752751031.14431648.20160428153112.dcm'),\n",
       " WindowsPath('C:/Users/Serena/DoseFalloffv2/CT.1.2.246.352.71.3.63752751031.14432289.20160428153112.dcm'),\n",
       " WindowsPath('C:/Users/Serena/DoseFalloffv2/CT.1.2.246.352.71.3.63752751031.14432290.20160428153112.dcm'),\n",
       " WindowsPath('C:/Users/Serena/DoseFalloffv2/CT.1.2.246.352.71.3.63752751031.14432291.20160428153112.dcm'),\n",
       " WindowsPath('C:/Users/Serena/DoseFalloffv2/CT.1.2.246.352.71.3.63752751031.14432292.20160428153112.dcm'),\n",
       " WindowsPath('C:/Users/Serena/DoseFalloffv2/CT.1.2.246.352.71.3.63752751031.14432293.20160428153112.dcm'),\n",
       " WindowsPath('C:/Users/Serena/DoseFalloffv2/CT.1.2.246.352.71.3.63752751031.14432294.20160428153112.dcm'),\n",
       " WindowsPath('C:/Users/Serena/DoseFalloffv2/CT.1.2.246.352.71.3.63752751031.14432295.20160428153112.dcm'),\n",
       " WindowsPath('C:/Users/Serena/DoseFalloffv2/CT.1.2.246.352.71.3.63752751031.14432296.20160428153112.dcm'),\n",
       " WindowsPath('C:/Users/Serena/DoseFalloffv2/CT.1.2.246.352.71.3.63752751031.14432297.20160428153112.dcm'),\n",
       " WindowsPath('C:/Users/Serena/DoseFalloffv2/CT.1.2.246.352.71.3.63752751031.14432298.20160428153112.dcm'),\n",
       " WindowsPath('C:/Users/Serena/DoseFalloffv2/CT.1.2.246.352.71.3.63752751031.14432299.20160428153112.dcm'),\n",
       " WindowsPath('C:/Users/Serena/DoseFalloffv2/CT.1.2.246.352.71.3.63752751031.14432300.20160428153112.dcm'),\n",
       " WindowsPath('C:/Users/Serena/DoseFalloffv2/CT.1.2.246.352.71.3.63752751031.14432301.20160428153112.dcm'),\n",
       " WindowsPath('C:/Users/Serena/DoseFalloffv2/CT.1.2.246.352.71.3.63752751031.14432302.20160428153112.dcm'),\n",
       " WindowsPath('C:/Users/Serena/DoseFalloffv2/CT.1.2.246.352.71.3.63752751031.14432303.20160428153112.dcm'),\n",
       " WindowsPath('C:/Users/Serena/DoseFalloffv2/CT.1.2.246.352.71.3.63752751031.14432304.20160428153112.dcm'),\n",
       " WindowsPath('C:/Users/Serena/DoseFalloffv2/CT.1.2.246.352.71.3.63752751031.14432305.20160428153112.dcm'),\n",
       " WindowsPath('C:/Users/Serena/DoseFalloffv2/CT.1.2.246.352.71.3.63752751031.14432306.20160428153112.dcm'),\n",
       " WindowsPath('C:/Users/Serena/DoseFalloffv2/CT.1.2.246.352.71.3.63752751031.14432307.20160428153112.dcm'),\n",
       " WindowsPath('C:/Users/Serena/DoseFalloffv2/CT.1.2.246.352.71.3.63752751031.14432308.20160428153112.dcm'),\n",
       " WindowsPath('C:/Users/Serena/DoseFalloffv2/CT.1.2.246.352.71.3.63752751031.14432309.20160428153112.dcm'),\n",
       " WindowsPath('C:/Users/Serena/DoseFalloffv2/CT.1.2.246.352.71.3.63752751031.14432310.20160428153112.dcm'),\n",
       " WindowsPath('C:/Users/Serena/DoseFalloffv2/CT.1.2.246.352.71.3.63752751031.14432311.20160428153112.dcm'),\n",
       " WindowsPath('C:/Users/Serena/DoseFalloffv2/CT.1.2.246.352.71.3.63752751031.14432312.20160428153112.dcm'),\n",
       " WindowsPath('C:/Users/Serena/DoseFalloffv2/CT.1.2.246.352.71.3.63752751031.14432313.20160428153112.dcm'),\n",
       " WindowsPath('C:/Users/Serena/DoseFalloffv2/CT.1.2.246.352.71.3.63752751031.14432314.20160428153112.dcm'),\n",
       " WindowsPath('C:/Users/Serena/DoseFalloffv2/CT.1.2.246.352.71.3.63752751031.14432315.20160428153112.dcm'),\n",
       " WindowsPath('C:/Users/Serena/DoseFalloffv2/CT.1.2.246.352.71.3.63752751031.14432316.20160428153112.dcm'),\n",
       " WindowsPath('C:/Users/Serena/DoseFalloffv2/CT.1.2.246.352.71.3.63752751031.14432317.20160428153112.dcm'),\n",
       " WindowsPath('C:/Users/Serena/DoseFalloffv2/CT.1.2.246.352.71.3.63752751031.14432318.20160428153112.dcm'),\n",
       " WindowsPath('C:/Users/Serena/DoseFalloffv2/CT.1.2.246.352.71.3.63752751031.14432319.20160428153112.dcm'),\n",
       " WindowsPath('C:/Users/Serena/DoseFalloffv2/CT.1.2.246.352.71.3.63752751031.14432320.20160428153112.dcm'),\n",
       " WindowsPath('C:/Users/Serena/DoseFalloffv2/CT.1.2.246.352.71.3.63752751031.14432321.20160428153112.dcm'),\n",
       " WindowsPath('C:/Users/Serena/DoseFalloffv2/CT.1.2.246.352.71.3.63752751031.14432322.20160428153112.dcm'),\n",
       " WindowsPath('C:/Users/Serena/DoseFalloffv2/CT.1.2.246.352.71.3.63752751031.14432323.20160428153112.dcm'),\n",
       " WindowsPath('C:/Users/Serena/DoseFalloffv2/CT.1.2.246.352.71.3.63752751031.14432324.20160428153112.dcm'),\n",
       " WindowsPath('C:/Users/Serena/DoseFalloffv2/CT.1.2.246.352.71.3.63752751031.14432325.20160428153112.dcm'),\n",
       " WindowsPath('C:/Users/Serena/DoseFalloffv2/CT.1.2.246.352.71.3.63752751031.14432326.20160428153112.dcm'),\n",
       " WindowsPath('C:/Users/Serena/DoseFalloffv2/CT.1.2.246.352.71.3.63752751031.14432327.20160428153112.dcm'),\n",
       " WindowsPath('C:/Users/Serena/DoseFalloffv2/CT.1.2.246.352.71.3.63752751031.14432328.20160428153112.dcm'),\n",
       " WindowsPath('C:/Users/Serena/DoseFalloffv2/CT.1.2.246.352.71.3.63752751031.14432329.20160428153112.dcm'),\n",
       " WindowsPath('C:/Users/Serena/DoseFalloffv2/CT.1.2.246.352.71.3.63752751031.14432330.20160428153112.dcm'),\n",
       " WindowsPath('C:/Users/Serena/DoseFalloffv2/CT.1.2.246.352.71.3.63752751031.14432331.20160428153112.dcm'),\n",
       " WindowsPath('C:/Users/Serena/DoseFalloffv2/CT.1.2.246.352.71.3.63752751031.14432332.20160428153112.dcm'),\n",
       " WindowsPath('C:/Users/Serena/DoseFalloffv2/CT.1.2.246.352.71.3.63752751031.14432333.20160428153112.dcm'),\n",
       " WindowsPath('C:/Users/Serena/DoseFalloffv2/CT.1.2.246.352.71.3.63752751031.14432334.20160428153112.dcm'),\n",
       " WindowsPath('C:/Users/Serena/DoseFalloffv2/CT.1.2.246.352.71.3.63752751031.14432335.20160428153112.dcm'),\n",
       " WindowsPath('C:/Users/Serena/DoseFalloffv2/CT.1.2.246.352.71.3.63752751031.14432336.20160428153112.dcm'),\n",
       " WindowsPath('C:/Users/Serena/DoseFalloffv2/CT.1.2.246.352.71.3.63752751031.14432337.20160428153112.dcm'),\n",
       " WindowsPath('C:/Users/Serena/DoseFalloffv2/CT.1.2.246.352.71.3.63752751031.14432338.20160428153112.dcm'),\n",
       " WindowsPath('C:/Users/Serena/DoseFalloffv2/CT.1.2.246.352.71.3.63752751031.14432339.20160428153112.dcm'),\n",
       " WindowsPath('C:/Users/Serena/DoseFalloffv2/CT.1.2.246.352.71.3.63752751031.14432340.20160428153112.dcm'),\n",
       " WindowsPath('C:/Users/Serena/DoseFalloffv2/CT.1.2.246.352.71.3.63752751031.14432341.20160428153112.dcm'),\n",
       " WindowsPath('C:/Users/Serena/DoseFalloffv2/CT.1.2.246.352.71.3.63752751031.14432342.20160428153112.dcm'),\n",
       " WindowsPath('C:/Users/Serena/DoseFalloffv2/CT.1.2.246.352.71.3.63752751031.14432343.20160428153112.dcm'),\n",
       " WindowsPath('C:/Users/Serena/DoseFalloffv2/CT.1.2.246.352.71.3.63752751031.14432344.20160428153112.dcm'),\n",
       " WindowsPath('C:/Users/Serena/DoseFalloffv2/CT.1.2.246.352.71.3.63752751031.14432345.20160428153112.dcm'),\n",
       " WindowsPath('C:/Users/Serena/DoseFalloffv2/CT.1.2.246.352.71.3.63752751031.14432346.20160428153112.dcm'),\n",
       " WindowsPath('C:/Users/Serena/DoseFalloffv2/CT.1.2.246.352.71.3.63752751031.14432347.20160428153112.dcm'),\n",
       " WindowsPath('C:/Users/Serena/DoseFalloffv2/CT.1.2.246.352.71.3.63752751031.14432348.20160428153112.dcm'),\n",
       " WindowsPath('C:/Users/Serena/DoseFalloffv2/CT.1.2.246.352.71.3.63752751031.14432349.20160428153112.dcm'),\n",
       " WindowsPath('C:/Users/Serena/DoseFalloffv2/CT.1.2.246.352.71.3.63752751031.14432350.20160428153112.dcm'),\n",
       " WindowsPath('C:/Users/Serena/DoseFalloffv2/CT.1.2.246.352.71.3.63752751031.14432351.20160428153112.dcm'),\n",
       " WindowsPath('C:/Users/Serena/DoseFalloffv2/CT.1.2.246.352.71.3.63752751031.14432352.20160428153112.dcm'),\n",
       " WindowsPath('C:/Users/Serena/DoseFalloffv2/CT.1.2.246.352.71.3.63752751031.14432353.20160428153112.dcm'),\n",
       " WindowsPath('C:/Users/Serena/DoseFalloffv2/CT.1.2.246.352.71.3.63752751031.14432354.20160428153112.dcm'),\n",
       " WindowsPath('C:/Users/Serena/DoseFalloffv2/CT.1.2.246.352.71.3.63752751031.14432355.20160428153112.dcm'),\n",
       " WindowsPath('C:/Users/Serena/DoseFalloffv2/CT.1.2.246.352.71.3.63752751031.14432356.20160428153112.dcm'),\n",
       " WindowsPath('C:/Users/Serena/DoseFalloffv2/CT.1.2.246.352.71.3.63752751031.14432357.20160428153112.dcm'),\n",
       " WindowsPath('C:/Users/Serena/DoseFalloffv2/CT.1.2.246.352.71.3.63752751031.14432358.20160428153112.dcm'),\n",
       " WindowsPath('C:/Users/Serena/DoseFalloffv2/CT.1.2.246.352.71.3.63752751031.14432359.20160428153112.dcm'),\n",
       " WindowsPath('C:/Users/Serena/DoseFalloffv2/CT.1.2.246.352.71.3.63752751031.14432360.20160428153112.dcm'),\n",
       " WindowsPath('C:/Users/Serena/DoseFalloffv2/CT.1.2.246.352.71.3.63752751031.14432361.20160428153112.dcm'),\n",
       " WindowsPath('C:/Users/Serena/DoseFalloffv2/CT.1.2.246.352.71.3.63752751031.14432362.20160428153112.dcm'),\n",
       " WindowsPath('C:/Users/Serena/DoseFalloffv2/CT.1.2.246.352.71.3.63752751031.14432363.20160428153112.dcm'),\n",
       " WindowsPath('C:/Users/Serena/DoseFalloffv2/CT.1.2.246.352.71.3.63752751031.14432364.20160428153112.dcm'),\n",
       " WindowsPath('C:/Users/Serena/DoseFalloffv2/CT.1.2.246.352.71.3.63752751031.14432365.20160428153112.dcm'),\n",
       " WindowsPath('C:/Users/Serena/DoseFalloffv2/CT.1.2.246.352.71.3.63752751031.14432366.20160428153112.dcm'),\n",
       " WindowsPath('C:/Users/Serena/DoseFalloffv2/CT.1.2.246.352.71.3.63752751031.14432367.20160428153112.dcm'),\n",
       " WindowsPath('C:/Users/Serena/DoseFalloffv2/CT.1.2.246.352.71.3.63752751031.14432368.20160428153112.dcm'),\n",
       " WindowsPath('C:/Users/Serena/DoseFalloffv2/CT.1.2.246.352.71.3.63752751031.14432369.20160428153112.dcm'),\n",
       " WindowsPath('C:/Users/Serena/DoseFalloffv2/CT.1.2.246.352.71.3.63752751031.14432370.20160428153112.dcm'),\n",
       " WindowsPath('C:/Users/Serena/DoseFalloffv2/CT.1.2.246.352.71.3.63752751031.14432371.20160428153112.dcm'),\n",
       " WindowsPath('C:/Users/Serena/DoseFalloffv2/CT.1.2.246.352.71.3.63752751031.14432372.20160428153112.dcm'),\n",
       " WindowsPath('C:/Users/Serena/DoseFalloffv2/CT.1.2.246.352.71.3.63752751031.14432373.20160428153112.dcm'),\n",
       " WindowsPath('C:/Users/Serena/DoseFalloffv2/CT.1.2.246.352.71.3.63752751031.14432374.20160428153112.dcm'),\n",
       " WindowsPath('C:/Users/Serena/DoseFalloffv2/CT.1.2.246.352.71.3.63752751031.14432375.20160428153112.dcm'),\n",
       " WindowsPath('C:/Users/Serena/DoseFalloffv2/CT.1.2.246.352.71.3.63752751031.14432376.20160428153112.dcm'),\n",
       " WindowsPath('C:/Users/Serena/DoseFalloffv2/CT.1.2.246.352.71.3.63752751031.14432377.20160428153112.dcm'),\n",
       " WindowsPath('C:/Users/Serena/DoseFalloffv2/CT.1.2.246.352.71.3.63752751031.14432378.20160428153112.dcm'),\n",
       " WindowsPath('C:/Users/Serena/DoseFalloffv2/CT.1.2.246.352.71.3.63752751031.14432379.20160428153112.dcm'),\n",
       " WindowsPath('C:/Users/Serena/DoseFalloffv2/CT.1.2.246.352.71.3.63752751031.14432380.20160428153112.dcm'),\n",
       " WindowsPath('C:/Users/Serena/DoseFalloffv2/CT.1.2.246.352.71.3.63752751031.14432381.20160428153112.dcm'),\n",
       " WindowsPath('C:/Users/Serena/DoseFalloffv2/CT.1.2.246.352.71.3.63752751031.14432382.20160428153112.dcm'),\n",
       " WindowsPath('C:/Users/Serena/DoseFalloffv2/CT.1.2.246.352.71.3.63752751031.14432383.20160428153112.dcm'),\n",
       " WindowsPath('C:/Users/Serena/DoseFalloffv2/CT.1.2.246.352.71.3.63752751031.14432384.20160428153112.dcm'),\n",
       " WindowsPath('C:/Users/Serena/DoseFalloffv2/CT.1.2.246.352.71.3.63752751031.14432385.20160428153112.dcm'),\n",
       " WindowsPath('C:/Users/Serena/DoseFalloffv2/CT.1.2.246.352.71.3.63752751031.14432386.20160428153112.dcm'),\n",
       " WindowsPath('C:/Users/Serena/DoseFalloffv2/CT.1.2.246.352.71.3.63752751031.14432387.20160428153112.dcm'),\n",
       " WindowsPath('C:/Users/Serena/DoseFalloffv2/CT.1.2.246.352.71.3.63752751031.14432388.20160428153112.dcm'),\n",
       " WindowsPath('C:/Users/Serena/DoseFalloffv2/CT.1.2.246.352.71.3.63752751031.14432389.20160428153112.dcm'),\n",
       " WindowsPath('C:/Users/Serena/DoseFalloffv2/CT.1.2.246.352.71.3.63752751031.14432390.20160428153112.dcm'),\n",
       " WindowsPath('C:/Users/Serena/DoseFalloffv2/CT.1.2.246.352.71.3.63752751031.14432391.20160428153112.dcm'),\n",
       " WindowsPath('C:/Users/Serena/DoseFalloffv2/CT.1.2.246.352.71.3.63752751031.14432392.20160428153112.dcm'),\n",
       " WindowsPath('C:/Users/Serena/DoseFalloffv2/CT.1.2.246.352.71.3.63752751031.14432393.20160428153112.dcm'),\n",
       " WindowsPath('C:/Users/Serena/DoseFalloffv2/CT.1.2.246.352.71.3.63752751031.14432394.20160428153112.dcm'),\n",
       " WindowsPath('C:/Users/Serena/DoseFalloffv2/CT.1.2.246.352.71.3.63752751031.14432395.20160428153112.dcm'),\n",
       " WindowsPath('C:/Users/Serena/DoseFalloffv2/CT.1.2.246.352.71.3.63752751031.14432396.20160428153112.dcm'),\n",
       " WindowsPath('C:/Users/Serena/DoseFalloffv2/CT.1.2.246.352.71.3.63752751031.14432397.20160428153112.dcm'),\n",
       " WindowsPath('C:/Users/Serena/DoseFalloffv2/CT.1.2.246.352.71.3.63752751031.14432398.20160428153112.dcm'),\n",
       " WindowsPath('C:/Users/Serena/DoseFalloffv2/CT.1.2.246.352.71.3.63752751031.14432399.20160428153112.dcm'),\n",
       " WindowsPath('C:/Users/Serena/DoseFalloffv2/CT.1.2.246.352.71.3.63752751031.14432400.20160428153112.dcm'),\n",
       " WindowsPath('C:/Users/Serena/DoseFalloffv2/CT.1.2.246.352.71.3.63752751031.14432401.20160428153112.dcm'),\n",
       " WindowsPath('C:/Users/Serena/DoseFalloffv2/CT.1.2.246.352.71.3.63752751031.14432402.20160428153112.dcm'),\n",
       " WindowsPath('C:/Users/Serena/DoseFalloffv2/CT.1.2.246.352.71.3.63752751031.14432403.20160428153112.dcm'),\n",
       " WindowsPath('C:/Users/Serena/DoseFalloffv2/CT.1.2.246.352.71.3.63752751031.14432404.20160428153112.dcm'),\n",
       " WindowsPath('C:/Users/Serena/DoseFalloffv2/CT.1.2.246.352.71.3.63752751031.14432405.20160428153112.dcm'),\n",
       " WindowsPath('C:/Users/Serena/DoseFalloffv2/CT.1.2.246.352.71.3.63752751031.14432406.20160428153112.dcm'),\n",
       " WindowsPath('C:/Users/Serena/DoseFalloffv2/CT.1.2.246.352.71.3.63752751031.14432407.20160428153112.dcm'),\n",
       " WindowsPath('C:/Users/Serena/DoseFalloffv2/CT.1.2.246.352.71.3.63752751031.14432408.20160428153112.dcm'),\n",
       " WindowsPath('C:/Users/Serena/DoseFalloffv2/CT.1.2.246.352.71.3.63752751031.14432409.20160428153112.dcm'),\n",
       " WindowsPath('C:/Users/Serena/DoseFalloffv2/CT.1.2.246.352.71.3.63752751031.14432410.20160428153112.dcm'),\n",
       " WindowsPath('C:/Users/Serena/DoseFalloffv2/CT.1.2.246.352.71.3.63752751031.14432411.20160428153112.dcm'),\n",
       " WindowsPath('C:/Users/Serena/DoseFalloffv2/CT.1.2.246.352.71.3.63752751031.14432412.20160428153112.dcm'),\n",
       " WindowsPath('C:/Users/Serena/DoseFalloffv2/CT.1.2.246.352.71.3.63752751031.14432413.20160428153112.dcm'),\n",
       " WindowsPath('C:/Users/Serena/DoseFalloffv2/CT.1.2.246.352.71.3.63752751031.14432414.20160428153112.dcm'),\n",
       " WindowsPath('C:/Users/Serena/DoseFalloffv2/CT.1.2.246.352.71.3.63752751031.14432415.20160428153112.dcm'),\n",
       " WindowsPath('C:/Users/Serena/DoseFalloffv2/CT.1.2.246.352.71.3.63752751031.14432416.20160428153112.dcm'),\n",
       " WindowsPath('C:/Users/Serena/DoseFalloffv2/CT.1.2.246.352.71.3.63752751031.14432417.20160428153112.dcm'),\n",
       " WindowsPath('C:/Users/Serena/DoseFalloffv2/CT.1.2.246.352.71.3.63752751031.14432418.20160428153112.dcm'),\n",
       " WindowsPath('C:/Users/Serena/DoseFalloffv2/CT.1.2.246.352.71.3.63752751031.14432419.20160428153112.dcm'),\n",
       " WindowsPath('C:/Users/Serena/DoseFalloffv2/CT.1.2.246.352.71.3.63752751031.14432420.20160428153112.dcm'),\n",
       " WindowsPath('C:/Users/Serena/DoseFalloffv2/CT.1.2.246.352.71.3.63752751031.14432421.20160428153112.dcm'),\n",
       " WindowsPath('C:/Users/Serena/DoseFalloffv2/CT.1.2.246.352.71.3.63752751031.14432422.20160428153112.dcm'),\n",
       " WindowsPath('C:/Users/Serena/DoseFalloffv2/CT.1.2.246.352.71.3.63752751031.14432423.20160428153112.dcm'),\n",
       " WindowsPath('C:/Users/Serena/DoseFalloffv2/CT.1.2.246.352.71.3.63752751031.14432424.20160428153112.dcm'),\n",
       " WindowsPath('C:/Users/Serena/DoseFalloffv2/CT.1.2.246.352.71.3.63752751031.14432425.20160428153112.dcm'),\n",
       " WindowsPath('C:/Users/Serena/DoseFalloffv2/CT.1.2.246.352.71.3.63752751031.14432426.20160428153112.dcm')]"
      ]
     },
     "execution_count": 6,
     "metadata": {},
     "output_type": "execute_result"
    }
   ],
   "source": [
    "file_dir"
   ]
  },
  {
   "cell_type": "code",
   "execution_count": 33,
   "id": "490ac7d9",
   "metadata": {},
   "outputs": [],
   "source": [
    "# Get ref file\n",
    "slice = pydicom.read_file(file_dir[0]) #reading first file in directory. Tuple option?\n",
    "#slices = pydicom.read_file(file_path)\n",
    "\n",
    "#Following lines constructed from using header dcm information in each file. So\n",
    "\n",
    "# Load dimensions based on the number of rows, columns, and slices (along the Z axis)\n",
    "#ConstPixelDims = (int(slice.Rows), int(slice.Columns), len(file_dir))\n",
    "\n",
    "# Load pixelspacing values (in mm)\n",
    "#ConstPixelSpacing = (float(slice.PixelSpacing[0]), float(slice.PixelSpacing[1]), float(slice.SliceThickness))"
   ]
  },
  {
   "cell_type": "code",
   "execution_count": 34,
   "id": "1448c1c0",
   "metadata": {},
   "outputs": [
    {
     "data": {
      "text/plain": [
       "[-250, -250, 265]"
      ]
     },
     "execution_count": 34,
     "metadata": {},
     "output_type": "execute_result"
    }
   ],
   "source": [
    "ImagePositionPatient=slice.ImagePositionPatient\n",
    "ImagePositionPatient"
   ]
  },
  {
   "cell_type": "code",
   "execution_count": null,
   "id": "5c032bef",
   "metadata": {},
   "outputs": [],
   "source": [
    "#x_mm = numpy.arange(0.0, (ConstPixelDims[0]+1)*ConstPixelSpacing[0], ConstPixelSpacing[0])#start, end and steps of x\n",
    "#y_mm = numpy.arange(0.0, (ConstPixelDims[1]+1)*ConstPixelSpacing[1], ConstPixelSpacing[1])\n",
    "#z_mm = numpy.arange(0.0, (ConstPixelDims[2]+1)*ConstPixelSpacing[2], ConstPixelSpacing[2])"
   ]
  },
  {
   "cell_type": "code",
   "execution_count": null,
   "id": "c24f45a3",
   "metadata": {},
   "outputs": [],
   "source": [
    "#Absolute info setting\n",
    "#how can I set start x and y position, if 3 stored together as Image position\n",
    "#x_mm = numpy.arange(ImagePositionPatient[0], ImagePositionPatient[0]+(ConstPixelDims[0]+1)*ConstPixelSpacing[0], ConstPixelSpacing[0])#start, end and steps of x\n",
    "#y_mm = numpy.arange(ImagePositionPatient[1], (ConstPixelDims[1]+1)*ConstPixelSpacing[1], ConstPixelSpacing[1])\n",
    "#z_mm = numpy.arange(ImagePositionPatient[2], (ConstPixelDims[2]+1)*ConstPixelSpacing[2], ConstPixelSpacing[2])"
   ]
  },
  {
   "cell_type": "code",
   "execution_count": 28,
   "id": "c7f4e603",
   "metadata": {},
   "outputs": [],
   "source": [
    "#if this is correct, it still only applies to one slice\n",
    "import numpy as np\n",
    "x_mmpositions=np.linspace(-250, (-250+(511*0.976562)), 512)\n",
    "y_mmpositions=np.linspace(-250, (-250+(511*0.976562)), 512)\n",
    "z_mmpositions=np.linspace(265, 265-(151*2.5), 152)"
   ]
  },
  {
   "cell_type": "code",
   "execution_count": 10,
   "id": "ad16557a",
   "metadata": {},
   "outputs": [
    {
     "name": "stdout",
     "output_type": "stream",
     "text": [
      "[-2.50000000e+02 -2.49023438e+02 -2.48046876e+02 -2.47070314e+02\n",
      " -2.46093752e+02 -2.45117190e+02 -2.44140628e+02 -2.43164066e+02\n",
      " -2.42187504e+02 -2.41210942e+02 -2.40234380e+02 -2.39257818e+02\n",
      " -2.38281256e+02 -2.37304694e+02 -2.36328132e+02 -2.35351570e+02\n",
      " -2.34375008e+02 -2.33398446e+02 -2.32421884e+02 -2.31445322e+02\n",
      " -2.30468760e+02 -2.29492198e+02 -2.28515636e+02 -2.27539074e+02\n",
      " -2.26562512e+02 -2.25585950e+02 -2.24609388e+02 -2.23632826e+02\n",
      " -2.22656264e+02 -2.21679702e+02 -2.20703140e+02 -2.19726578e+02\n",
      " -2.18750016e+02 -2.17773454e+02 -2.16796892e+02 -2.15820330e+02\n",
      " -2.14843768e+02 -2.13867206e+02 -2.12890644e+02 -2.11914082e+02\n",
      " -2.10937520e+02 -2.09960958e+02 -2.08984396e+02 -2.08007834e+02\n",
      " -2.07031272e+02 -2.06054710e+02 -2.05078148e+02 -2.04101586e+02\n",
      " -2.03125024e+02 -2.02148462e+02 -2.01171900e+02 -2.00195338e+02\n",
      " -1.99218776e+02 -1.98242214e+02 -1.97265652e+02 -1.96289090e+02\n",
      " -1.95312528e+02 -1.94335966e+02 -1.93359404e+02 -1.92382842e+02\n",
      " -1.91406280e+02 -1.90429718e+02 -1.89453156e+02 -1.88476594e+02\n",
      " -1.87500032e+02 -1.86523470e+02 -1.85546908e+02 -1.84570346e+02\n",
      " -1.83593784e+02 -1.82617222e+02 -1.81640660e+02 -1.80664098e+02\n",
      " -1.79687536e+02 -1.78710974e+02 -1.77734412e+02 -1.76757850e+02\n",
      " -1.75781288e+02 -1.74804726e+02 -1.73828164e+02 -1.72851602e+02\n",
      " -1.71875040e+02 -1.70898478e+02 -1.69921916e+02 -1.68945354e+02\n",
      " -1.67968792e+02 -1.66992230e+02 -1.66015668e+02 -1.65039106e+02\n",
      " -1.64062544e+02 -1.63085982e+02 -1.62109420e+02 -1.61132858e+02\n",
      " -1.60156296e+02 -1.59179734e+02 -1.58203172e+02 -1.57226610e+02\n",
      " -1.56250048e+02 -1.55273486e+02 -1.54296924e+02 -1.53320362e+02\n",
      " -1.52343800e+02 -1.51367238e+02 -1.50390676e+02 -1.49414114e+02\n",
      " -1.48437552e+02 -1.47460990e+02 -1.46484428e+02 -1.45507866e+02\n",
      " -1.44531304e+02 -1.43554742e+02 -1.42578180e+02 -1.41601618e+02\n",
      " -1.40625056e+02 -1.39648494e+02 -1.38671932e+02 -1.37695370e+02\n",
      " -1.36718808e+02 -1.35742246e+02 -1.34765684e+02 -1.33789122e+02\n",
      " -1.32812560e+02 -1.31835998e+02 -1.30859436e+02 -1.29882874e+02\n",
      " -1.28906312e+02 -1.27929750e+02 -1.26953188e+02 -1.25976626e+02\n",
      " -1.25000064e+02 -1.24023502e+02 -1.23046940e+02 -1.22070378e+02\n",
      " -1.21093816e+02 -1.20117254e+02 -1.19140692e+02 -1.18164130e+02\n",
      " -1.17187568e+02 -1.16211006e+02 -1.15234444e+02 -1.14257882e+02\n",
      " -1.13281320e+02 -1.12304758e+02 -1.11328196e+02 -1.10351634e+02\n",
      " -1.09375072e+02 -1.08398510e+02 -1.07421948e+02 -1.06445386e+02\n",
      " -1.05468824e+02 -1.04492262e+02 -1.03515700e+02 -1.02539138e+02\n",
      " -1.01562576e+02 -1.00586014e+02 -9.96094520e+01 -9.86328900e+01\n",
      " -9.76563280e+01 -9.66797660e+01 -9.57032040e+01 -9.47266420e+01\n",
      " -9.37500800e+01 -9.27735180e+01 -9.17969560e+01 -9.08203940e+01\n",
      " -8.98438320e+01 -8.88672700e+01 -8.78907080e+01 -8.69141460e+01\n",
      " -8.59375840e+01 -8.49610220e+01 -8.39844600e+01 -8.30078980e+01\n",
      " -8.20313360e+01 -8.10547740e+01 -8.00782120e+01 -7.91016500e+01\n",
      " -7.81250880e+01 -7.71485260e+01 -7.61719640e+01 -7.51954020e+01\n",
      " -7.42188400e+01 -7.32422780e+01 -7.22657160e+01 -7.12891540e+01\n",
      " -7.03125920e+01 -6.93360300e+01 -6.83594680e+01 -6.73829060e+01\n",
      " -6.64063440e+01 -6.54297820e+01 -6.44532200e+01 -6.34766580e+01\n",
      " -6.25000960e+01 -6.15235340e+01 -6.05469720e+01 -5.95704100e+01\n",
      " -5.85938480e+01 -5.76172860e+01 -5.66407240e+01 -5.56641620e+01\n",
      " -5.46876000e+01 -5.37110380e+01 -5.27344760e+01 -5.17579140e+01\n",
      " -5.07813520e+01 -4.98047900e+01 -4.88282280e+01 -4.78516660e+01\n",
      " -4.68751040e+01 -4.58985420e+01 -4.49219800e+01 -4.39454180e+01\n",
      " -4.29688560e+01 -4.19922940e+01 -4.10157320e+01 -4.00391700e+01\n",
      " -3.90626080e+01 -3.80860460e+01 -3.71094840e+01 -3.61329220e+01\n",
      " -3.51563600e+01 -3.41797980e+01 -3.32032360e+01 -3.22266740e+01\n",
      " -3.12501120e+01 -3.02735500e+01 -2.92969880e+01 -2.83204260e+01\n",
      " -2.73438640e+01 -2.63673020e+01 -2.53907400e+01 -2.44141780e+01\n",
      " -2.34376160e+01 -2.24610540e+01 -2.14844920e+01 -2.05079300e+01\n",
      " -1.95313680e+01 -1.85548060e+01 -1.75782440e+01 -1.66016820e+01\n",
      " -1.56251200e+01 -1.46485580e+01 -1.36719960e+01 -1.26954340e+01\n",
      " -1.17188720e+01 -1.07423100e+01 -9.76574800e+00 -8.78918600e+00\n",
      " -7.81262400e+00 -6.83606200e+00 -5.85950000e+00 -4.88293800e+00\n",
      " -3.90637600e+00 -2.92981400e+00 -1.95325200e+00 -9.76690000e-01\n",
      " -1.28000000e-04  9.76434000e-01  1.95299600e+00  2.92955800e+00\n",
      "  3.90612000e+00  4.88268200e+00  5.85924400e+00  6.83580600e+00\n",
      "  7.81236800e+00  8.78893000e+00  9.76549200e+00  1.07420540e+01\n",
      "  1.17186160e+01  1.26951780e+01  1.36717400e+01  1.46483020e+01\n",
      "  1.56248640e+01  1.66014260e+01  1.75779880e+01  1.85545500e+01\n",
      "  1.95311120e+01  2.05076740e+01  2.14842360e+01  2.24607980e+01\n",
      "  2.34373600e+01  2.44139220e+01  2.53904840e+01  2.63670460e+01\n",
      "  2.73436080e+01  2.83201700e+01  2.92967320e+01  3.02732940e+01\n",
      "  3.12498560e+01  3.22264180e+01  3.32029800e+01  3.41795420e+01\n",
      "  3.51561040e+01  3.61326660e+01  3.71092280e+01  3.80857900e+01\n",
      "  3.90623520e+01  4.00389140e+01  4.10154760e+01  4.19920380e+01\n",
      "  4.29686000e+01  4.39451620e+01  4.49217240e+01  4.58982860e+01\n",
      "  4.68748480e+01  4.78514100e+01  4.88279720e+01  4.98045340e+01\n",
      "  5.07810960e+01  5.17576580e+01  5.27342200e+01  5.37107820e+01\n",
      "  5.46873440e+01  5.56639060e+01  5.66404680e+01  5.76170300e+01\n",
      "  5.85935920e+01  5.95701540e+01  6.05467160e+01  6.15232780e+01\n",
      "  6.24998400e+01  6.34764020e+01  6.44529640e+01  6.54295260e+01\n",
      "  6.64060880e+01  6.73826500e+01  6.83592120e+01  6.93357740e+01\n",
      "  7.03123360e+01  7.12888980e+01  7.22654600e+01  7.32420220e+01\n",
      "  7.42185840e+01  7.51951460e+01  7.61717080e+01  7.71482700e+01\n",
      "  7.81248320e+01  7.91013940e+01  8.00779560e+01  8.10545180e+01\n",
      "  8.20310800e+01  8.30076420e+01  8.39842040e+01  8.49607660e+01\n",
      "  8.59373280e+01  8.69138900e+01  8.78904520e+01  8.88670140e+01\n",
      "  8.98435760e+01  9.08201380e+01  9.17967000e+01  9.27732620e+01\n",
      "  9.37498240e+01  9.47263860e+01  9.57029480e+01  9.66795100e+01\n",
      "  9.76560720e+01  9.86326340e+01  9.96091960e+01  1.00585758e+02\n",
      "  1.01562320e+02  1.02538882e+02  1.03515444e+02  1.04492006e+02\n",
      "  1.05468568e+02  1.06445130e+02  1.07421692e+02  1.08398254e+02\n",
      "  1.09374816e+02  1.10351378e+02  1.11327940e+02  1.12304502e+02\n",
      "  1.13281064e+02  1.14257626e+02  1.15234188e+02  1.16210750e+02\n",
      "  1.17187312e+02  1.18163874e+02  1.19140436e+02  1.20116998e+02\n",
      "  1.21093560e+02  1.22070122e+02  1.23046684e+02  1.24023246e+02\n",
      "  1.24999808e+02  1.25976370e+02  1.26952932e+02  1.27929494e+02\n",
      "  1.28906056e+02  1.29882618e+02  1.30859180e+02  1.31835742e+02\n",
      "  1.32812304e+02  1.33788866e+02  1.34765428e+02  1.35741990e+02\n",
      "  1.36718552e+02  1.37695114e+02  1.38671676e+02  1.39648238e+02\n",
      "  1.40624800e+02  1.41601362e+02  1.42577924e+02  1.43554486e+02\n",
      "  1.44531048e+02  1.45507610e+02  1.46484172e+02  1.47460734e+02\n",
      "  1.48437296e+02  1.49413858e+02  1.50390420e+02  1.51366982e+02\n",
      "  1.52343544e+02  1.53320106e+02  1.54296668e+02  1.55273230e+02\n",
      "  1.56249792e+02  1.57226354e+02  1.58202916e+02  1.59179478e+02\n",
      "  1.60156040e+02  1.61132602e+02  1.62109164e+02  1.63085726e+02\n",
      "  1.64062288e+02  1.65038850e+02  1.66015412e+02  1.66991974e+02\n",
      "  1.67968536e+02  1.68945098e+02  1.69921660e+02  1.70898222e+02\n",
      "  1.71874784e+02  1.72851346e+02  1.73827908e+02  1.74804470e+02\n",
      "  1.75781032e+02  1.76757594e+02  1.77734156e+02  1.78710718e+02\n",
      "  1.79687280e+02  1.80663842e+02  1.81640404e+02  1.82616966e+02\n",
      "  1.83593528e+02  1.84570090e+02  1.85546652e+02  1.86523214e+02\n",
      "  1.87499776e+02  1.88476338e+02  1.89452900e+02  1.90429462e+02\n",
      "  1.91406024e+02  1.92382586e+02  1.93359148e+02  1.94335710e+02\n",
      "  1.95312272e+02  1.96288834e+02  1.97265396e+02  1.98241958e+02\n",
      "  1.99218520e+02  2.00195082e+02  2.01171644e+02  2.02148206e+02\n",
      "  2.03124768e+02  2.04101330e+02  2.05077892e+02  2.06054454e+02\n",
      "  2.07031016e+02  2.08007578e+02  2.08984140e+02  2.09960702e+02\n",
      "  2.10937264e+02  2.11913826e+02  2.12890388e+02  2.13866950e+02\n",
      "  2.14843512e+02  2.15820074e+02  2.16796636e+02  2.17773198e+02\n",
      "  2.18749760e+02  2.19726322e+02  2.20702884e+02  2.21679446e+02\n",
      "  2.22656008e+02  2.23632570e+02  2.24609132e+02  2.25585694e+02\n",
      "  2.26562256e+02  2.27538818e+02  2.28515380e+02  2.29491942e+02\n",
      "  2.30468504e+02  2.31445066e+02  2.32421628e+02  2.33398190e+02\n",
      "  2.34374752e+02  2.35351314e+02  2.36327876e+02  2.37304438e+02\n",
      "  2.38281000e+02  2.39257562e+02  2.40234124e+02  2.41210686e+02\n",
      "  2.42187248e+02  2.43163810e+02  2.44140372e+02  2.45116934e+02\n",
      "  2.46093496e+02  2.47070058e+02  2.48046620e+02  2.49023182e+02]\n"
     ]
    }
   ],
   "source": [
    "print (x_mmpositions)"
   ]
  },
  {
   "cell_type": "code",
   "execution_count": 29,
   "id": "13e691d6",
   "metadata": {},
   "outputs": [
    {
     "name": "stdout",
     "output_type": "stream",
     "text": [
      "[ 265.   262.5  260.   257.5  255.   252.5  250.   247.5  245.   242.5\n",
      "  240.   237.5  235.   232.5  230.   227.5  225.   222.5  220.   217.5\n",
      "  215.   212.5  210.   207.5  205.   202.5  200.   197.5  195.   192.5\n",
      "  190.   187.5  185.   182.5  180.   177.5  175.   172.5  170.   167.5\n",
      "  165.   162.5  160.   157.5  155.   152.5  150.   147.5  145.   142.5\n",
      "  140.   137.5  135.   132.5  130.   127.5  125.   122.5  120.   117.5\n",
      "  115.   112.5  110.   107.5  105.   102.5  100.    97.5   95.    92.5\n",
      "   90.    87.5   85.    82.5   80.    77.5   75.    72.5   70.    67.5\n",
      "   65.    62.5   60.    57.5   55.    52.5   50.    47.5   45.    42.5\n",
      "   40.    37.5   35.    32.5   30.    27.5   25.    22.5   20.    17.5\n",
      "   15.    12.5   10.     7.5    5.     2.5    0.    -2.5   -5.    -7.5\n",
      "  -10.   -12.5  -15.   -17.5  -20.   -22.5  -25.   -27.5  -30.   -32.5\n",
      "  -35.   -37.5  -40.   -42.5  -45.   -47.5  -50.   -52.5  -55.   -57.5\n",
      "  -60.   -62.5  -65.   -67.5  -70.   -72.5  -75.   -77.5  -80.   -82.5\n",
      "  -85.   -87.5  -90.   -92.5  -95.   -97.5 -100.  -102.5 -105.  -107.5\n",
      " -110.  -112.5]\n"
     ]
    }
   ],
   "source": [
    "print (z_mmpositions)"
   ]
  },
  {
   "cell_type": "code",
   "execution_count": null,
   "id": "0c4f22c5",
   "metadata": {},
   "outputs": [],
   "source": [
    "#print (slice.pixel_array.dtype)"
   ]
  },
  {
   "cell_type": "code",
   "execution_count": 30,
   "id": "529cf4b7",
   "metadata": {
    "scrolled": true
   },
   "outputs": [
    {
     "data": {
      "text/plain": [
       "Dataset.file_meta -------------------------------\n",
       "(0002, 0000) File Meta Information Group Length  UL: 184\n",
       "(0002, 0001) File Meta Information Version       OB: b'\\x00\\x01'\n",
       "(0002, 0002) Media Storage SOP Class UID         UI: CT Image Storage\n",
       "(0002, 0003) Media Storage SOP Instance UID      UI: 1.2.246.352.71.3.63752751031.14432426.20160428153112\n",
       "(0002, 0010) Transfer Syntax UID                 UI: Implicit VR Little Endian\n",
       "(0002, 0012) Implementation Class UID            UI: 1.2.246.352.70.2.1.160.3\n",
       "(0002, 0013) Implementation Version Name         SH: 'DCIE 16.1'\n",
       "-------------------------------------------------\n",
       "(0008, 0005) Specific Character Set              CS: 'ISO_IR 192'\n",
       "(0008, 0008) Image Type                          CS: ['DERIVED', 'SECONDARY', 'REFORMATTED']\n",
       "(0008, 0012) Instance Creation Date              DA: '20210712'\n",
       "(0008, 0013) Instance Creation Time              TM: '164630'\n",
       "(0008, 0016) SOP Class UID                       UI: CT Image Storage\n",
       "(0008, 0018) SOP Instance UID                    UI: 1.2.246.352.71.3.63752751031.14432426.20160428153112\n",
       "(0008, 0020) Study Date                          DA: '20160428'\n",
       "(0008, 0021) Series Date                         DA: '20160428'\n",
       "(0008, 0022) Acquisition Date                    DA: '20160428'\n",
       "(0008, 0023) Content Date                        DA: '20160208'\n",
       "(0008, 0030) Study Time                          TM: '152009.54'\n",
       "(0008, 0031) Series Time                         TM: '152104.463'\n",
       "(0008, 0032) Acquisition Time                    TM: '152105.093'\n",
       "(0008, 0033) Content Time                        TM: '123608'\n",
       "(0008, 0050) Accession Number                    SH: ''\n",
       "(0008, 0060) Modality                            CS: 'CT'\n",
       "(0008, 0070) Manufacturer                        LO: 'GE MEDICAL SYSTEMS'\n",
       "(0008, 0080) Institution Name                    LO: \"NPRO, St James's Hospital\"\n",
       "(0008, 0090) Referring Physician's Name          PN: ''\n",
       "(0008, 1010) Station Name                        SH: 'NPSJ_CT01'\n",
       "(0008, 1030) Study Description                   LO: 'ARIA RadOnc Study'\n",
       "(0008, 103e) Series Description                  LO: 'Ave-IP(10) 0%_10%_20%_30%_40%_50%_60%_70%_80%_90%'\n",
       "(0008, 1070) Operators' Name                     PN: 'lmcoleman'\n",
       "(0008, 1090) Manufacturer's Model Name           LO: 'Optima CT580'\n",
       "(0010, 0010) Patient's Name                      PN: 'ZZ_SABR TRAINING 3'\n",
       "(0010, 0020) Patient ID                          LO: 'R01361620'\n",
       "(0010, 0030) Patient's Birth Date                DA: ''\n",
       "(0010, 0040) Patient's Sex                       CS: ''\n",
       "(0018, 0022) Scan Options                        CS: 'CINE MODE'\n",
       "(0018, 0050) Slice Thickness                     DS: \"2.5\"\n",
       "(0018, 0060) KVP                                 DS: \"120.0\"\n",
       "(0018, 0090) Data Collection Diameter            DS: \"500.0\"\n",
       "(0018, 1020) Software Versions                   LO: 'qin.3'\n",
       "(0018, 1100) Reconstruction Diameter             DS: \"500.0\"\n",
       "(0018, 1110) Distance Source to Detector         DS: \"1062.55\"\n",
       "(0018, 1111) Distance Source to Patient          DS: \"605.945\"\n",
       "(0018, 1120) Gantry/Detector Tilt                DS: \"0.0\"\n",
       "(0018, 1130) Table Height                        DS: \"215.5\"\n",
       "(0018, 1140) Rotation Direction                  CS: 'CW'\n",
       "(0018, 1150) Exposure Time                       IS: \"500\"\n",
       "(0018, 1151) X-Ray Tube Current                  IS: \"250\"\n",
       "(0018, 1152) Exposure                            IS: \"15\"\n",
       "(0018, 1160) Filter Type                         SH: 'BODY FILTER'\n",
       "(0018, 1170) Generator Power                     IS: \"30000\"\n",
       "(0018, 1190) Focal Spot(s)                       DS: \"0.7\"\n",
       "(0018, 1210) Convolution Kernel                  SH: 'STANDARD'\n",
       "(0018, 5100) Patient Position                    CS: 'HFS'\n",
       "(0020, 000d) Study Instance UID                  UI: 1.2.246.352.71.1.63752751031.150634.20160428152028\n",
       "(0020, 000e) Series Instance UID                 UI: 1.2.246.352.71.2.63752751031.5992171.20160428152104\n",
       "(0020, 0010) Study ID                            SH: '1'\n",
       "(0020, 0011) Series Number                       IS: \"2\"\n",
       "(0020, 0012) Acquisition Number                  IS: \"19\"\n",
       "(0020, 0013) Instance Number                     IS: \"152\"\n",
       "(0020, 0032) Image Position (Patient)            DS: [-250, -250, -112.5]\n",
       "(0020, 0037) Image Orientation (Patient)         DS: [1, 0, 0, 0, 1, 0]\n",
       "(0020, 0052) Frame of Reference UID              UI: 1.2.840.113619.2.278.3.2735394058.387.1454922096.774.13735.1\n",
       "(0020, 1040) Position Reference Indicator        LO: 'SN'\n",
       "(0020, 1041) Slice Location                      DS: \"-112.5\"\n",
       "(0028, 0002) Samples per Pixel                   US: 1\n",
       "(0028, 0004) Photometric Interpretation          CS: 'MONOCHROME2'\n",
       "(0028, 0010) Rows                                US: 512\n",
       "(0028, 0011) Columns                             US: 512\n",
       "(0028, 0030) Pixel Spacing                       DS: [0.976562, 0.976562]\n",
       "(0028, 0100) Bits Allocated                      US: 16\n",
       "(0028, 0101) Bits Stored                         US: 16\n",
       "(0028, 0102) High Bit                            US: 15\n",
       "(0028, 0103) Pixel Representation                US: 0\n",
       "(0028, 1050) Window Center                       DS: \"40.0\"\n",
       "(0028, 1051) Window Width                        DS: \"350.0\"\n",
       "(0028, 1052) Rescale Intercept                   DS: \"-1000.0\"\n",
       "(0028, 1053) Rescale Slope                       DS: \"1.0\"\n",
       "(0028, 1054) Rescale Type                        LO: 'HU'\n",
       "(7fe0, 0010) Pixel Data                          OW: Array of 524288 elements"
      ]
     },
     "execution_count": 30,
     "metadata": {},
     "output_type": "execute_result"
    }
   ],
   "source": [
    "pydicom.read_file(file_dir[151])"
   ]
  },
  {
   "cell_type": "code",
   "execution_count": 40,
   "id": "cd67a2a0",
   "metadata": {
    "scrolled": true
   },
   "outputs": [],
   "source": [
    "# The array is sized based on 'ConstPixelDims'\n",
    "#Arraypydicom = numpy.zeros(ConstPixelDims, dtype=slice.pixel_array.dtype)#dtype datatype\n",
    "\n",
    "# loop through all the DICOM files\n",
    "#for filenameDCM in file_dir:\n",
    "   # print(filenameDCM)\n",
    "    # read the file\n",
    "   # ds = pydicom.read_file(filenameDCM)\n",
    "    # store the raw image data\n",
    " #   Arraypydicom[:, :, file_dir.index(filenameDCM)] = ds.pixel_array  \n",
    "Arraypydicom=slice.pixel_array"
   ]
  },
  {
   "cell_type": "code",
   "execution_count": 17,
   "id": "c51f3733",
   "metadata": {},
   "outputs": [
    {
     "name": "stdout",
     "output_type": "stream",
     "text": [
      "(512, 512)\n"
     ]
    }
   ],
   "source": [
    "print ( Arraypydicom . shape )"
   ]
  },
  {
   "cell_type": "code",
   "execution_count": 23,
   "id": "7cf73b75",
   "metadata": {},
   "outputs": [
    {
     "ename": "ValueError",
     "evalue": "not enough values to unpack (expected 2, got 1)",
     "output_type": "error",
     "traceback": [
      "\u001b[1;31m---------------------------------------------------------------------------\u001b[0m",
      "\u001b[1;31mValueError\u001b[0m                                Traceback (most recent call last)",
      "\u001b[1;32m<ipython-input-23-5c1af41add34>\u001b[0m in \u001b[0;36m<module>\u001b[1;34m\u001b[0m\n\u001b[0;32m      2\u001b[0m \u001b[0mpyplot\u001b[0m\u001b[1;33m.\u001b[0m\u001b[0maxes\u001b[0m\u001b[1;33m(\u001b[0m\u001b[1;33m)\u001b[0m\u001b[1;33m.\u001b[0m\u001b[0mset_aspect\u001b[0m\u001b[1;33m(\u001b[0m\u001b[1;34m'equal'\u001b[0m\u001b[1;33m,\u001b[0m \u001b[1;34m'datalim'\u001b[0m\u001b[1;33m)\u001b[0m\u001b[1;33m\u001b[0m\u001b[1;33m\u001b[0m\u001b[0m\n\u001b[0;32m      3\u001b[0m \u001b[0mpyplot\u001b[0m\u001b[1;33m.\u001b[0m\u001b[0mset_cmap\u001b[0m\u001b[1;33m(\u001b[0m\u001b[0mpyplot\u001b[0m\u001b[1;33m.\u001b[0m\u001b[0mgray\u001b[0m\u001b[1;33m(\u001b[0m\u001b[1;33m)\u001b[0m\u001b[1;33m)\u001b[0m\u001b[1;33m\u001b[0m\u001b[1;33m\u001b[0m\u001b[0m\n\u001b[1;32m----> 4\u001b[1;33m \u001b[0mpyplot\u001b[0m\u001b[1;33m.\u001b[0m\u001b[0mpcolormesh\u001b[0m\u001b[1;33m(\u001b[0m\u001b[0mx_mmpositions\u001b[0m\u001b[1;33m,\u001b[0m \u001b[0my_mmpositions\u001b[0m\u001b[1;33m,\u001b[0m \u001b[0mArraypydicom\u001b[0m\u001b[1;33m[\u001b[0m\u001b[1;36m0\u001b[0m\u001b[1;33m]\u001b[0m \u001b[1;33m)\u001b[0m\u001b[1;33m\u001b[0m\u001b[1;33m\u001b[0m\u001b[0m\n\u001b[0m",
      "\u001b[1;32m~\\anaconda3\\lib\\site-packages\\matplotlib\\pyplot.py\u001b[0m in \u001b[0;36mpcolormesh\u001b[1;34m(alpha, norm, cmap, vmin, vmax, shading, antialiased, data, *args, **kwargs)\u001b[0m\n\u001b[0;32m   2799\u001b[0m         \u001b[0mvmax\u001b[0m\u001b[1;33m=\u001b[0m\u001b[1;32mNone\u001b[0m\u001b[1;33m,\u001b[0m \u001b[0mshading\u001b[0m\u001b[1;33m=\u001b[0m\u001b[1;32mNone\u001b[0m\u001b[1;33m,\u001b[0m \u001b[0mantialiased\u001b[0m\u001b[1;33m=\u001b[0m\u001b[1;32mFalse\u001b[0m\u001b[1;33m,\u001b[0m \u001b[0mdata\u001b[0m\u001b[1;33m=\u001b[0m\u001b[1;32mNone\u001b[0m\u001b[1;33m,\u001b[0m\u001b[1;33m\u001b[0m\u001b[1;33m\u001b[0m\u001b[0m\n\u001b[0;32m   2800\u001b[0m         **kwargs):\n\u001b[1;32m-> 2801\u001b[1;33m     __ret = gca().pcolormesh(\n\u001b[0m\u001b[0;32m   2802\u001b[0m         \u001b[1;33m*\u001b[0m\u001b[0margs\u001b[0m\u001b[1;33m,\u001b[0m \u001b[0malpha\u001b[0m\u001b[1;33m=\u001b[0m\u001b[0malpha\u001b[0m\u001b[1;33m,\u001b[0m \u001b[0mnorm\u001b[0m\u001b[1;33m=\u001b[0m\u001b[0mnorm\u001b[0m\u001b[1;33m,\u001b[0m \u001b[0mcmap\u001b[0m\u001b[1;33m=\u001b[0m\u001b[0mcmap\u001b[0m\u001b[1;33m,\u001b[0m \u001b[0mvmin\u001b[0m\u001b[1;33m=\u001b[0m\u001b[0mvmin\u001b[0m\u001b[1;33m,\u001b[0m\u001b[1;33m\u001b[0m\u001b[1;33m\u001b[0m\u001b[0m\n\u001b[0;32m   2803\u001b[0m         \u001b[0mvmax\u001b[0m\u001b[1;33m=\u001b[0m\u001b[0mvmax\u001b[0m\u001b[1;33m,\u001b[0m \u001b[0mshading\u001b[0m\u001b[1;33m=\u001b[0m\u001b[0mshading\u001b[0m\u001b[1;33m,\u001b[0m \u001b[0mantialiased\u001b[0m\u001b[1;33m=\u001b[0m\u001b[0mantialiased\u001b[0m\u001b[1;33m,\u001b[0m\u001b[1;33m\u001b[0m\u001b[1;33m\u001b[0m\u001b[0m\n",
      "\u001b[1;32m~\\anaconda3\\lib\\site-packages\\matplotlib\\__init__.py\u001b[0m in \u001b[0;36minner\u001b[1;34m(ax, data, *args, **kwargs)\u001b[0m\n\u001b[0;32m   1445\u001b[0m     \u001b[1;32mdef\u001b[0m \u001b[0minner\u001b[0m\u001b[1;33m(\u001b[0m\u001b[0max\u001b[0m\u001b[1;33m,\u001b[0m \u001b[1;33m*\u001b[0m\u001b[0margs\u001b[0m\u001b[1;33m,\u001b[0m \u001b[0mdata\u001b[0m\u001b[1;33m=\u001b[0m\u001b[1;32mNone\u001b[0m\u001b[1;33m,\u001b[0m \u001b[1;33m**\u001b[0m\u001b[0mkwargs\u001b[0m\u001b[1;33m)\u001b[0m\u001b[1;33m:\u001b[0m\u001b[1;33m\u001b[0m\u001b[1;33m\u001b[0m\u001b[0m\n\u001b[0;32m   1446\u001b[0m         \u001b[1;32mif\u001b[0m \u001b[0mdata\u001b[0m \u001b[1;32mis\u001b[0m \u001b[1;32mNone\u001b[0m\u001b[1;33m:\u001b[0m\u001b[1;33m\u001b[0m\u001b[1;33m\u001b[0m\u001b[0m\n\u001b[1;32m-> 1447\u001b[1;33m             \u001b[1;32mreturn\u001b[0m \u001b[0mfunc\u001b[0m\u001b[1;33m(\u001b[0m\u001b[0max\u001b[0m\u001b[1;33m,\u001b[0m \u001b[1;33m*\u001b[0m\u001b[0mmap\u001b[0m\u001b[1;33m(\u001b[0m\u001b[0msanitize_sequence\u001b[0m\u001b[1;33m,\u001b[0m \u001b[0margs\u001b[0m\u001b[1;33m)\u001b[0m\u001b[1;33m,\u001b[0m \u001b[1;33m**\u001b[0m\u001b[0mkwargs\u001b[0m\u001b[1;33m)\u001b[0m\u001b[1;33m\u001b[0m\u001b[1;33m\u001b[0m\u001b[0m\n\u001b[0m\u001b[0;32m   1448\u001b[0m \u001b[1;33m\u001b[0m\u001b[0m\n\u001b[0;32m   1449\u001b[0m         \u001b[0mbound\u001b[0m \u001b[1;33m=\u001b[0m \u001b[0mnew_sig\u001b[0m\u001b[1;33m.\u001b[0m\u001b[0mbind\u001b[0m\u001b[1;33m(\u001b[0m\u001b[0max\u001b[0m\u001b[1;33m,\u001b[0m \u001b[1;33m*\u001b[0m\u001b[0margs\u001b[0m\u001b[1;33m,\u001b[0m \u001b[1;33m**\u001b[0m\u001b[0mkwargs\u001b[0m\u001b[1;33m)\u001b[0m\u001b[1;33m\u001b[0m\u001b[1;33m\u001b[0m\u001b[0m\n",
      "\u001b[1;32m~\\anaconda3\\lib\\site-packages\\matplotlib\\axes\\_axes.py\u001b[0m in \u001b[0;36mpcolormesh\u001b[1;34m(self, alpha, norm, cmap, vmin, vmax, shading, antialiased, *args, **kwargs)\u001b[0m\n\u001b[0;32m   6090\u001b[0m         \u001b[0mkwargs\u001b[0m\u001b[1;33m.\u001b[0m\u001b[0msetdefault\u001b[0m\u001b[1;33m(\u001b[0m\u001b[1;34m'edgecolors'\u001b[0m\u001b[1;33m,\u001b[0m \u001b[1;34m'None'\u001b[0m\u001b[1;33m)\u001b[0m\u001b[1;33m\u001b[0m\u001b[1;33m\u001b[0m\u001b[0m\n\u001b[0;32m   6091\u001b[0m \u001b[1;33m\u001b[0m\u001b[0m\n\u001b[1;32m-> 6092\u001b[1;33m         X, Y, C, shading = self._pcolorargs('pcolormesh', *args,\n\u001b[0m\u001b[0;32m   6093\u001b[0m                                             shading=shading, kwargs=kwargs)\n\u001b[0;32m   6094\u001b[0m         \u001b[0mNy\u001b[0m\u001b[1;33m,\u001b[0m \u001b[0mNx\u001b[0m \u001b[1;33m=\u001b[0m \u001b[0mX\u001b[0m\u001b[1;33m.\u001b[0m\u001b[0mshape\u001b[0m\u001b[1;33m\u001b[0m\u001b[1;33m\u001b[0m\u001b[0m\n",
      "\u001b[1;32m~\\anaconda3\\lib\\site-packages\\matplotlib\\axes\\_axes.py\u001b[0m in \u001b[0;36m_pcolorargs\u001b[1;34m(self, funcname, shading, *args, **kwargs)\u001b[0m\n\u001b[0;32m   5583\u001b[0m                 \u001b[1;32mif\u001b[0m \u001b[0misinstance\u001b[0m\u001b[1;33m(\u001b[0m\u001b[0mY\u001b[0m\u001b[1;33m,\u001b[0m \u001b[0mnp\u001b[0m\u001b[1;33m.\u001b[0m\u001b[0mma\u001b[0m\u001b[1;33m.\u001b[0m\u001b[0mcore\u001b[0m\u001b[1;33m.\u001b[0m\u001b[0mMaskedArray\u001b[0m\u001b[1;33m)\u001b[0m\u001b[1;33m:\u001b[0m\u001b[1;33m\u001b[0m\u001b[1;33m\u001b[0m\u001b[0m\n\u001b[0;32m   5584\u001b[0m                     \u001b[0mY\u001b[0m \u001b[1;33m=\u001b[0m \u001b[0mY\u001b[0m\u001b[1;33m.\u001b[0m\u001b[0mdata\u001b[0m\u001b[1;33m\u001b[0m\u001b[1;33m\u001b[0m\u001b[0m\n\u001b[1;32m-> 5585\u001b[1;33m             \u001b[0mnrows\u001b[0m\u001b[1;33m,\u001b[0m \u001b[0mncols\u001b[0m \u001b[1;33m=\u001b[0m \u001b[0mC\u001b[0m\u001b[1;33m.\u001b[0m\u001b[0mshape\u001b[0m\u001b[1;33m\u001b[0m\u001b[1;33m\u001b[0m\u001b[0m\n\u001b[0m\u001b[0;32m   5586\u001b[0m         \u001b[1;32melse\u001b[0m\u001b[1;33m:\u001b[0m\u001b[1;33m\u001b[0m\u001b[1;33m\u001b[0m\u001b[0m\n\u001b[0;32m   5587\u001b[0m             raise TypeError(f'{funcname}() takes 1 or 3 positional arguments '\n",
      "\u001b[1;31mValueError\u001b[0m: not enough values to unpack (expected 2, got 1)"
     ]
    },
    {
     "data": {
      "image/png": "[encoded data removed]",
      "text/plain": [
       "<Figure size 1800x1200 with 1 Axes>"
      ]
     },
     "metadata": {
      "needs_background": "light"
     },
     "output_type": "display_data"
    }
   ],
   "source": [
    "pyplot.figure(dpi=300)\n",
    "pyplot.axes().set_aspect('equal', 'datalim')\n",
    "pyplot.set_cmap(pyplot.gray())\n",
    "pyplot.pcolormesh(x_mmpositions, y_mmpositions, Arraypydicom[0] )"
   ]
  },
  {
   "cell_type": "code",
   "execution_count": null,
   "id": "21034697",
   "metadata": {},
   "outputs": [],
   "source": [
    "import plotly.graph_objs as go\n",
    "\n",
    "# examply of scatter plot matplotlib.pyplot.scatter(x, y, cmap=color_map, c=color_range)\n",
    "ct_Heatmap=go.Heatmap (x=x_mmpositions, y=y_mmpositions, z=Arraypydicom[:,:,50], colorscale=\"jet\", opacity=0.2)\n",
    "\n",
    "#Tests\n",
    "#ct_Heatmap=go.Heatmap (x=x_mmpositions, y=y_mmpositions, z=z_mmpositions[:,:,50], colorscale=\"jet\", opacity=0.8)\n",
    "#ct_Heatmap=go.Heatmap (z=Arraypydicom[:,:,50], y=ymmpositions, x=xmmpositions, colorscale=\"jet\", opacity=0.3)\n",
    "go.Figure(data=ct_Heatmap)"
   ]
  },
  {
   "cell_type": "code",
   "execution_count": null,
   "id": "d5e19b60",
   "metadata": {},
   "outputs": [],
   "source": [
    "#THIS SECTION IS NOW THE IMPORT OF THE DOSE FILE\n",
    "\n",
    "import tkinter as tK\n",
    "from tkinter import*\n",
    "from tkinter import filedialog\n",
    "\n",
    "root=tK.Tk()\n",
    "root.withdraw()\n",
    "file_path=filedialog.askopenfilename()\n",
    "\n",
    "print(file_path)"
   ]
  },
  {
   "cell_type": "code",
   "execution_count": null,
   "id": "1637a9ba",
   "metadata": {},
   "outputs": [],
   "source": [
    "from pydicom import dcmread\n",
    "#from pydicom.data import get_testdata_file\n",
    "#path = get_testdata_file(\"rtdosecube.dcm\")\n",
    "dose = dcmread(file_path)\n",
    "#type(dose.PixelData)"
   ]
  },
  {
   "cell_type": "code",
   "execution_count": null,
   "id": "30f2c364",
   "metadata": {},
   "outputs": [],
   "source": [
    "dose"
   ]
  },
  {
   "cell_type": "code",
   "execution_count": null,
   "id": "234719c7",
   "metadata": {},
   "outputs": [],
   "source": [
    "dose.PixelSpacing"
   ]
  },
  {
   "cell_type": "code",
   "execution_count": null,
   "id": "c7a07ed0",
   "metadata": {},
   "outputs": [],
   "source": [
    "dose.ImagePositionPatient"
   ]
  },
  {
   "cell_type": "code",
   "execution_count": null,
   "id": "68ddd537",
   "metadata": {
    "scrolled": true
   },
   "outputs": [],
   "source": [
    "dose.GridFrameOffsetVector"
   ]
  },
  {
   "cell_type": "code",
   "execution_count": null,
   "id": "da0a9904",
   "metadata": {},
   "outputs": [],
   "source": [
    "arr = dose.pixel_array"
   ]
  },
  {
   "cell_type": "code",
   "execution_count": null,
   "id": "77fb1afa",
   "metadata": {},
   "outputs": [],
   "source": [
    "arr.shape\n",
    "#rows no of rows=278=y\n",
    "#rows no of colums=446=z"
   ]
  },
  {
   "cell_type": "code",
   "execution_count": null,
   "id": "5b3baff1",
   "metadata": {
    "scrolled": true
   },
   "outputs": [],
   "source": [
    "import numpy as np\n",
    "start_value=-113.3333333 #first value of image patient position. I obviously want to turn into command where this value is got automatically\n",
    "pixel_size=1 #pixelspacing value first\n",
    "final_value=start_value+(pixel_size*(ds.Columns-1))#506=colums\n",
    "xpositions=np.linspace(start_value,final_value,ds.Columns)\n",
    "#creates a cns array of numbers from starting to final number in stated steps\n",
    "print (xpositions)"
   ]
  },
  {
   "cell_type": "code",
   "execution_count": null,
   "id": "faf651b5",
   "metadata": {},
   "outputs": [],
   "source": [
    "start_value=-135.1662307 #first value of image patient position\n",
    "pixel_size=1 #pixelspacing value first\n",
    "final_value=start_value+(pixel_size*(ds.Rows-1))\n",
    "ypositions=np.linspace(start_value,final_value,ds.Rows)\n",
    "print (ypositions)"
   ]
  },
  {
   "cell_type": "code",
   "execution_count": null,
   "id": "bd9e227e",
   "metadata": {
    "scrolled": true
   },
   "outputs": [],
   "source": [
    "#start_value=-227.5022974 #first value of image patient position\n",
    "#pixel_size=2.5 #pixelspacing value first\n",
    "#final_value=start_value+(pixel_size*(ds.NumberofFrames-1))\n",
    "#zpositions=np.linspace(start_value,final_value,ds.NumberofFrames)\n",
    "zpositions=np.linspace(-227.5022974,(-227.5022974+(456*0.83333333)),455)# I know CT slice only starts at 265cm up to -112.5cm\n",
    "print (zpositions)"
   ]
  },
  {
   "cell_type": "code",
   "execution_count": null,
   "id": "8d7839d3",
   "metadata": {
    "scrolled": true
   },
   "outputs": [],
   "source": [
    "import plotly.graph_objs as go\n",
    "\n",
    "#ct_Heatmap=go.Heatmap (x=x_mmpositions, y=y_mmpositions, z=Arraypydicom[:,:,50], colorscale=\"jet\", opacity=0.8)\n",
    "\n",
    "\n",
    "dose_Heatmap=go.Heatmap (z=arr[300]*5.9498595725e-05, y=ypositions, x=xpositions, colorscale=\"jet\", opacity=0.8)\n",
    "go.Figure(data=dose_Heatmap)"
   ]
  },
  {
   "cell_type": "code",
   "execution_count": null,
   "id": "1cde31c3",
   "metadata": {},
   "outputs": [],
   "source": [
    "go.Figure(data=[dose_Heatmap and ct_Heatmap])"
   ]
  },
  {
   "cell_type": "code",
   "execution_count": null,
   "id": "768ee2d4",
   "metadata": {},
   "outputs": [],
   "source": [
    "#pyplot.figure(figsize=(8, 8), dpi=100)\n",
    "#pyplot.imshow(arr[:,:,150], cmap=pyplot.cm.jet)"
   ]
  },
  {
   "cell_type": "code",
   "execution_count": null,
   "id": "e9a48c70",
   "metadata": {},
   "outputs": [],
   "source": [
    "#NOW IMPORTING STRUCTURE SET DATA\n",
    "\n",
    "import tkinter as tK\n",
    "from tkinter import*\n",
    "from tkinter import filedialog\n",
    "\n",
    "root=tK.Tk()\n",
    "root.withdraw()\n",
    "struc_path=filedialog.askopenfilename()\n",
    "\n",
    "print(struc_path)"
   ]
  },
  {
   "cell_type": "code",
   "execution_count": null,
   "id": "ad9681c8",
   "metadata": {},
   "outputs": [],
   "source": [
    "ds = pydicom.read_file(struc_path, force=True)\n",
    "ds.dir(\"StructureSetROISequence\") #feeds back anything with contour in it"
   ]
  },
  {
   "cell_type": "code",
   "execution_count": null,
   "id": "e3f6242d",
   "metadata": {},
   "outputs": [],
   "source": [
    "ctrs = ds.StructureSetROISequence\n",
    "ctrs[5]"
   ]
  },
  {
   "cell_type": "code",
   "execution_count": null,
   "id": "fdcaaf3b",
   "metadata": {
    "scrolled": true
   },
   "outputs": [],
   "source": [
    "ds.dir(\"\")"
   ]
  },
  {
   "cell_type": "code",
   "execution_count": null,
   "id": "cc67e887",
   "metadata": {},
   "outputs": [],
   "source": [
    "ds = pydicom.read_file(struc_path, force=True)\n",
    "ds.dir(\"Contour\") #feeds back anything with contour in it"
   ]
  },
  {
   "cell_type": "code",
   "execution_count": null,
   "id": "c1005c81",
   "metadata": {},
   "outputs": [],
   "source": [
    "ctrs=ds.ROIContourSequence\n",
    "ctrs[15].ContourSequence[1].ContourData\n",
    "#These are triplets of (x, y, z) coordinates one after the other. Sequence of (x,y,z) triplets defining a contour in the patient based coordinate system\n",
    "#below is coordinates just for one slice"
   ]
  },
  {
   "cell_type": "code",
   "execution_count": null,
   "id": "e7f118b5",
   "metadata": {
    "scrolled": true
   },
   "outputs": [],
   "source": [
    "dir(ctrs[15].ContourSequence[1])"
   ]
  },
  {
   "cell_type": "code",
   "execution_count": null,
   "id": "669e2f54",
   "metadata": {},
   "outputs": [],
   "source": [
    "from tkinter import*\n",
    "from tkinter import filedialog\n",
    "from tkinter.filedialog import askdirectory\n",
    "\n",
    "rt_path = askdirectory()\n",
    "print(rt_path)"
   ]
  },
  {
   "cell_type": "code",
   "execution_count": null,
   "id": "47c6b2f4",
   "metadata": {},
   "outputs": [],
   "source": [
    "import tkinter as tK\n",
    "from tkinter import*\n",
    "from tkinter import filedialog\n",
    "\n",
    "root=tK.Tk()\n",
    "root.withdraw()\n",
    "struc2_path=filedialog.askopenfilename()\n",
    "print (struc2_path)"
   ]
  },
  {
   "cell_type": "code",
   "execution_count": null,
   "id": "27748c0e",
   "metadata": {
    "scrolled": true
   },
   "outputs": [],
   "source": [
    "#here are two ways I know of to map a given contour to a given CT slicee. one of the easiest ways is to find the z-coordinate of the contour sequence and render the contour data when it matches the z-coordinate of the CT data.\n",
    "#The best way to do that would be to convert the data to voxel space then mask the voxellized structure data over the CT data to get the voxels bounded by structure. You could do this CT slice by slice. \n",
    "\n",
    "from rt_utils import RTStructBuilder\n",
    "import matplotlib.pyplot as plt\n",
    "\n",
    "rtstruct = RTStructBuilder.create_new(dicom_series_path=rt_path)\n",
    "\n",
    "# Load existing RT Struct. Requires the series path and existing RT Struct path\n",
    "#rtstruct = RTStructBuilder.create_from(\n",
    "#rt_path, \n",
    "#struc2_path\n",
    "#)\n"
   ]
  },
  {
   "cell_type": "code",
   "execution_count": null,
   "id": "0b2d15bc",
   "metadata": {},
   "outputs": [],
   "source": [
    "# View all of the ROI names from within the image\n",
    "print(rtstruct.get_roi_names())\n",
    "\n",
    "# Loading the 3D Mask from within the RT Struct\n",
    "mask_3d = rtstruct.get_roi_mask_by_name(\"3 PTV-T A\")\n",
    "\n",
    "# Display one slice of the region\n",
    "first_mask_slice = mask_3d[:, :, 0]\n",
    "plt.imshow(first_mask_slice)\n",
    "plt.show()"
   ]
  }
 ],
 "metadata": {
  "kernelspec": {
   "display_name": "Python 3",
   "language": "python",
   "name": "python3"
  },
  "language_info": {
   "codemirror_mode": {
    "name": "ipython",
    "version": 3
   },
   "file_extension": ".py",
   "mimetype": "text/x-python",
   "name": "python",
   "nbconvert_exporter": "python",
   "pygments_lexer": "ipython3",
   "version": "3.8.8"
  }
 },
 "nbformat": 4,
 "nbformat_minor": 5
}
